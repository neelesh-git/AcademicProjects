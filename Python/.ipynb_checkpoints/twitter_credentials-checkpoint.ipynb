{
 "cells": [
  {
   "cell_type": "code",
   "execution_count": null,
   "metadata": {},
   "outputs": [],
   "source": [
    "ACCESS_TOKEN = \"2952479108-xS59KQJmyTWqfPU9IRC1gTrLBhN5Mt7bXWIhK2l\"\n",
    "ACCESS_TOKEN_SECRET = \"SS4kMCLfea8SdjXN3VFWQoeca5sIdVAI14ris9Q7VCxZR\"\n",
    "CONSUMER = \"zqGFT00l8zXyvzkDRpgKSRY7K\"\n",
    "CONSUMER_SECRET = \"crKxiKxYAaEI7SyxuCRWjCLYbIxfGBId6xJGLOxeHEtbMUH1tu\""
   ]
  }
 ],
 "metadata": {
  "kernelspec": {
   "display_name": "Python 3",
   "language": "python",
   "name": "python3"
  },
  "language_info": {
   "codemirror_mode": {
    "name": "ipython",
    "version": 3
   },
   "file_extension": ".py",
   "mimetype": "text/x-python",
   "name": "python",
   "nbconvert_exporter": "python",
   "pygments_lexer": "ipython3",
   "version": "3.6.5"
  }
 },
 "nbformat": 4,
 "nbformat_minor": 2
}
